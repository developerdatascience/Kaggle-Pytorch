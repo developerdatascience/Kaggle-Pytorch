{
 "cells": [
  {
   "cell_type": "code",
   "execution_count": 1,
   "id": "0378af8a",
   "metadata": {
    "execution": {
     "iopub.execute_input": "2025-05-17T20:41:26.936612Z",
     "iopub.status.busy": "2025-05-17T20:41:26.936396Z",
     "iopub.status.idle": "2025-05-17T20:41:34.043674Z",
     "shell.execute_reply": "2025-05-17T20:41:34.042696Z"
    },
    "papermill": {
     "duration": 7.113029,
     "end_time": "2025-05-17T20:41:34.045279",
     "exception": false,
     "start_time": "2025-05-17T20:41:26.932250",
     "status": "completed"
    },
    "tags": []
   },
   "outputs": [],
   "source": [
    "import torch\n",
    "import torch.nn as nn\n",
    "import torch.nn.functional as F\n",
    "import pandas as pd\n",
    "import numpy as np\n",
    "from sklearn.model_selection import train_test_split\n",
    "import matplotlib.pyplot as plt\n",
    "import torch.optim as optim\n",
    "from torch.utils.data import Dataset, DataLoader\n"
   ]
  },
  {
   "cell_type": "code",
   "execution_count": 2,
   "id": "0b446244",
   "metadata": {
    "execution": {
     "iopub.execute_input": "2025-05-17T20:41:34.051912Z",
     "iopub.status.busy": "2025-05-17T20:41:34.051432Z",
     "iopub.status.idle": "2025-05-17T20:41:34.062604Z",
     "shell.execute_reply": "2025-05-17T20:41:34.061874Z"
    },
    "papermill": {
     "duration": 0.015501,
     "end_time": "2025-05-17T20:41:34.063656",
     "exception": false,
     "start_time": "2025-05-17T20:41:34.048155",
     "status": "completed"
    },
    "tags": []
   },
   "outputs": [
    {
     "data": {
      "text/plain": [
       "<torch._C.Generator at 0x7a87b60b4550>"
      ]
     },
     "execution_count": 2,
     "metadata": {},
     "output_type": "execute_result"
    }
   ],
   "source": [
    "torch.manual_seed(42)"
   ]
  },
  {
   "cell_type": "code",
   "execution_count": 3,
   "id": "eb25449d",
   "metadata": {
    "execution": {
     "iopub.execute_input": "2025-05-17T20:41:34.069760Z",
     "iopub.status.busy": "2025-05-17T20:41:34.069512Z",
     "iopub.status.idle": "2025-05-17T20:41:34.538608Z",
     "shell.execute_reply": "2025-05-17T20:41:34.537811Z"
    },
    "papermill": {
     "duration": 0.473616,
     "end_time": "2025-05-17T20:41:34.540082",
     "exception": false,
     "start_time": "2025-05-17T20:41:34.066466",
     "status": "completed"
    },
    "tags": []
   },
   "outputs": [],
   "source": [
    "df = pd.read_csv(\"/kaggle/input/mnist-small-6k/fmnist_small - fmnist_small.csv\")"
   ]
  },
  {
   "cell_type": "code",
   "execution_count": 4,
   "id": "61eac5f0",
   "metadata": {
    "execution": {
     "iopub.execute_input": "2025-05-17T20:41:34.547299Z",
     "iopub.status.busy": "2025-05-17T20:41:34.546993Z",
     "iopub.status.idle": "2025-05-17T20:41:34.568539Z",
     "shell.execute_reply": "2025-05-17T20:41:34.567538Z"
    },
    "papermill": {
     "duration": 0.026204,
     "end_time": "2025-05-17T20:41:34.569669",
     "exception": false,
     "start_time": "2025-05-17T20:41:34.543465",
     "status": "completed"
    },
    "tags": []
   },
   "outputs": [
    {
     "data": {
      "text/html": [
       "<div>\n",
       "<style scoped>\n",
       "    .dataframe tbody tr th:only-of-type {\n",
       "        vertical-align: middle;\n",
       "    }\n",
       "\n",
       "    .dataframe tbody tr th {\n",
       "        vertical-align: top;\n",
       "    }\n",
       "\n",
       "    .dataframe thead th {\n",
       "        text-align: right;\n",
       "    }\n",
       "</style>\n",
       "<table border=\"1\" class=\"dataframe\">\n",
       "  <thead>\n",
       "    <tr style=\"text-align: right;\">\n",
       "      <th></th>\n",
       "      <th>label</th>\n",
       "      <th>pixel1</th>\n",
       "      <th>pixel2</th>\n",
       "      <th>pixel3</th>\n",
       "      <th>pixel4</th>\n",
       "      <th>pixel5</th>\n",
       "      <th>pixel6</th>\n",
       "      <th>pixel7</th>\n",
       "      <th>pixel8</th>\n",
       "      <th>pixel9</th>\n",
       "      <th>...</th>\n",
       "      <th>pixel775</th>\n",
       "      <th>pixel776</th>\n",
       "      <th>pixel777</th>\n",
       "      <th>pixel778</th>\n",
       "      <th>pixel779</th>\n",
       "      <th>pixel780</th>\n",
       "      <th>pixel781</th>\n",
       "      <th>pixel782</th>\n",
       "      <th>pixel783</th>\n",
       "      <th>pixel784</th>\n",
       "    </tr>\n",
       "  </thead>\n",
       "  <tbody>\n",
       "    <tr>\n",
       "      <th>0</th>\n",
       "      <td>9</td>\n",
       "      <td>0</td>\n",
       "      <td>0</td>\n",
       "      <td>0</td>\n",
       "      <td>0</td>\n",
       "      <td>0</td>\n",
       "      <td>0</td>\n",
       "      <td>0</td>\n",
       "      <td>0</td>\n",
       "      <td>0</td>\n",
       "      <td>...</td>\n",
       "      <td>0</td>\n",
       "      <td>7</td>\n",
       "      <td>0</td>\n",
       "      <td>50</td>\n",
       "      <td>205</td>\n",
       "      <td>196</td>\n",
       "      <td>213</td>\n",
       "      <td>165</td>\n",
       "      <td>0</td>\n",
       "      <td>0</td>\n",
       "    </tr>\n",
       "    <tr>\n",
       "      <th>1</th>\n",
       "      <td>7</td>\n",
       "      <td>0</td>\n",
       "      <td>0</td>\n",
       "      <td>0</td>\n",
       "      <td>0</td>\n",
       "      <td>0</td>\n",
       "      <td>0</td>\n",
       "      <td>0</td>\n",
       "      <td>0</td>\n",
       "      <td>0</td>\n",
       "      <td>...</td>\n",
       "      <td>0</td>\n",
       "      <td>0</td>\n",
       "      <td>0</td>\n",
       "      <td>0</td>\n",
       "      <td>0</td>\n",
       "      <td>0</td>\n",
       "      <td>0</td>\n",
       "      <td>0</td>\n",
       "      <td>0</td>\n",
       "      <td>0</td>\n",
       "    </tr>\n",
       "    <tr>\n",
       "      <th>2</th>\n",
       "      <td>0</td>\n",
       "      <td>0</td>\n",
       "      <td>0</td>\n",
       "      <td>0</td>\n",
       "      <td>0</td>\n",
       "      <td>0</td>\n",
       "      <td>1</td>\n",
       "      <td>0</td>\n",
       "      <td>0</td>\n",
       "      <td>0</td>\n",
       "      <td>...</td>\n",
       "      <td>142</td>\n",
       "      <td>142</td>\n",
       "      <td>142</td>\n",
       "      <td>21</td>\n",
       "      <td>0</td>\n",
       "      <td>3</td>\n",
       "      <td>0</td>\n",
       "      <td>0</td>\n",
       "      <td>0</td>\n",
       "      <td>0</td>\n",
       "    </tr>\n",
       "    <tr>\n",
       "      <th>3</th>\n",
       "      <td>8</td>\n",
       "      <td>0</td>\n",
       "      <td>0</td>\n",
       "      <td>0</td>\n",
       "      <td>0</td>\n",
       "      <td>0</td>\n",
       "      <td>0</td>\n",
       "      <td>0</td>\n",
       "      <td>0</td>\n",
       "      <td>0</td>\n",
       "      <td>...</td>\n",
       "      <td>0</td>\n",
       "      <td>0</td>\n",
       "      <td>0</td>\n",
       "      <td>0</td>\n",
       "      <td>0</td>\n",
       "      <td>0</td>\n",
       "      <td>0</td>\n",
       "      <td>0</td>\n",
       "      <td>0</td>\n",
       "      <td>0</td>\n",
       "    </tr>\n",
       "    <tr>\n",
       "      <th>4</th>\n",
       "      <td>8</td>\n",
       "      <td>0</td>\n",
       "      <td>0</td>\n",
       "      <td>0</td>\n",
       "      <td>0</td>\n",
       "      <td>0</td>\n",
       "      <td>0</td>\n",
       "      <td>0</td>\n",
       "      <td>0</td>\n",
       "      <td>0</td>\n",
       "      <td>...</td>\n",
       "      <td>213</td>\n",
       "      <td>203</td>\n",
       "      <td>174</td>\n",
       "      <td>151</td>\n",
       "      <td>188</td>\n",
       "      <td>10</td>\n",
       "      <td>0</td>\n",
       "      <td>0</td>\n",
       "      <td>0</td>\n",
       "      <td>0</td>\n",
       "    </tr>\n",
       "  </tbody>\n",
       "</table>\n",
       "<p>5 rows × 785 columns</p>\n",
       "</div>"
      ],
      "text/plain": [
       "   label  pixel1  pixel2  pixel3  pixel4  pixel5  pixel6  pixel7  pixel8  \\\n",
       "0      9       0       0       0       0       0       0       0       0   \n",
       "1      7       0       0       0       0       0       0       0       0   \n",
       "2      0       0       0       0       0       0       1       0       0   \n",
       "3      8       0       0       0       0       0       0       0       0   \n",
       "4      8       0       0       0       0       0       0       0       0   \n",
       "\n",
       "   pixel9  ...  pixel775  pixel776  pixel777  pixel778  pixel779  pixel780  \\\n",
       "0       0  ...         0         7         0        50       205       196   \n",
       "1       0  ...         0         0         0         0         0         0   \n",
       "2       0  ...       142       142       142        21         0         3   \n",
       "3       0  ...         0         0         0         0         0         0   \n",
       "4       0  ...       213       203       174       151       188        10   \n",
       "\n",
       "   pixel781  pixel782  pixel783  pixel784  \n",
       "0       213       165         0         0  \n",
       "1         0         0         0         0  \n",
       "2         0         0         0         0  \n",
       "3         0         0         0         0  \n",
       "4         0         0         0         0  \n",
       "\n",
       "[5 rows x 785 columns]"
      ]
     },
     "execution_count": 4,
     "metadata": {},
     "output_type": "execute_result"
    }
   ],
   "source": [
    "df.head(5)"
   ]
  },
  {
   "cell_type": "code",
   "execution_count": 5,
   "id": "6e453968",
   "metadata": {
    "execution": {
     "iopub.execute_input": "2025-05-17T20:41:34.576252Z",
     "iopub.status.busy": "2025-05-17T20:41:34.576028Z",
     "iopub.status.idle": "2025-05-17T20:41:35.446639Z",
     "shell.execute_reply": "2025-05-17T20:41:35.445536Z"
    },
    "papermill": {
     "duration": 0.875376,
     "end_time": "2025-05-17T20:41:35.448184",
     "exception": false,
     "start_time": "2025-05-17T20:41:34.572808",
     "status": "completed"
    },
    "tags": []
   },
   "outputs": [
    {
     "data": {
      "image/png": "[encoded data removed]",
      "text/plain": [
       "<Figure size 1000x1000 with 16 Axes>"
      ]
     },
     "metadata": {},
     "output_type": "display_data"
    }
   ],
   "source": [
    "fig, axes = plt.subplots(4, 4, figsize=(10, 10))\n",
    "fig.suptitle(\"First 16 images\", fontsize=16)\n",
    "\n",
    "\n",
    "for i, ax in enumerate(axes.flat):\n",
    "    img = df.iloc[i, 1:].values.reshape(28, 28)\n",
    "    ax.imshow(img)\n",
    "    ax.axis(\"off\")\n",
    "    ax.set_title(f\"Label: {df.iloc[i, 0]}\")\n",
    "\n",
    "plt.tight_layout(rect=[0,0,1,0.96])\n",
    "plt.show()\n"
   ]
  },
  {
   "cell_type": "code",
   "execution_count": 6,
   "id": "320f3f62",
   "metadata": {
    "execution": {
     "iopub.execute_input": "2025-05-17T20:41:35.457406Z",
     "iopub.status.busy": "2025-05-17T20:41:35.457113Z",
     "iopub.status.idle": "2025-05-17T20:41:35.461155Z",
     "shell.execute_reply": "2025-05-17T20:41:35.460528Z"
    },
    "papermill": {
     "duration": 0.01016,
     "end_time": "2025-05-17T20:41:35.462218",
     "exception": false,
     "start_time": "2025-05-17T20:41:35.452058",
     "status": "completed"
    },
    "tags": []
   },
   "outputs": [],
   "source": [
    "X = df.iloc[:, 1:].values\n",
    "y = df.iloc[:, 0].values"
   ]
  },
  {
   "cell_type": "code",
   "execution_count": 7,
   "id": "e7b2b047",
   "metadata": {
    "execution": {
     "iopub.execute_input": "2025-05-17T20:41:35.470312Z",
     "iopub.status.busy": "2025-05-17T20:41:35.469942Z",
     "iopub.status.idle": "2025-05-17T20:41:35.585542Z",
     "shell.execute_reply": "2025-05-17T20:41:35.584360Z"
    },
    "papermill": {
     "duration": 0.121225,
     "end_time": "2025-05-17T20:41:35.587007",
     "exception": false,
     "start_time": "2025-05-17T20:41:35.465782",
     "status": "completed"
    },
    "tags": []
   },
   "outputs": [],
   "source": [
    "X_train, X_test, y_train, y_test = train_test_split(X, y, test_size=0.2, random_state=42)"
   ]
  },
  {
   "cell_type": "code",
   "execution_count": 8,
   "id": "37fbc400",
   "metadata": {
    "execution": {
     "iopub.execute_input": "2025-05-17T20:41:35.594841Z",
     "iopub.status.busy": "2025-05-17T20:41:35.594549Z",
     "iopub.status.idle": "2025-05-17T20:41:35.693551Z",
     "shell.execute_reply": "2025-05-17T20:41:35.692759Z"
    },
    "papermill": {
     "duration": 0.104319,
     "end_time": "2025-05-17T20:41:35.694882",
     "exception": false,
     "start_time": "2025-05-17T20:41:35.590563",
     "status": "completed"
    },
    "tags": []
   },
   "outputs": [],
   "source": [
    "# scaling the features\n",
    "\n",
    "X_train = X_train/255.0\n",
    "X_test = X_test/255.0"
   ]
  },
  {
   "cell_type": "code",
   "execution_count": 9,
   "id": "089279a5",
   "metadata": {
    "execution": {
     "iopub.execute_input": "2025-05-17T20:41:35.702631Z",
     "iopub.status.busy": "2025-05-17T20:41:35.702368Z",
     "iopub.status.idle": "2025-05-17T20:41:35.706853Z",
     "shell.execute_reply": "2025-05-17T20:41:35.706249Z"
    },
    "papermill": {
     "duration": 0.009408,
     "end_time": "2025-05-17T20:41:35.707830",
     "exception": false,
     "start_time": "2025-05-17T20:41:35.698422",
     "status": "completed"
    },
    "tags": []
   },
   "outputs": [],
   "source": [
    "class CustomDataset(Dataset):\n",
    "    def __init__(self, features, labels):\n",
    "        self.features = torch.tensor(features, dtype=torch.float32)\n",
    "        self.labels = torch.tensor(labels, dtype=torch.long)\n",
    "\n",
    "    def __len__(self):\n",
    "        return len(self.features)\n",
    "\n",
    "    def __getitem__(self, idx):\n",
    "        return self.features[idx], self.labels[idx]"
   ]
  },
  {
   "cell_type": "code",
   "execution_count": 10,
   "id": "224c46be",
   "metadata": {
    "execution": {
     "iopub.execute_input": "2025-05-17T20:41:35.714800Z",
     "iopub.status.busy": "2025-05-17T20:41:35.714614Z",
     "iopub.status.idle": "2025-05-17T20:41:35.749214Z",
     "shell.execute_reply": "2025-05-17T20:41:35.748512Z"
    },
    "papermill": {
     "duration": 0.039533,
     "end_time": "2025-05-17T20:41:35.750532",
     "exception": false,
     "start_time": "2025-05-17T20:41:35.710999",
     "status": "completed"
    },
    "tags": []
   },
   "outputs": [],
   "source": [
    "train_data = CustomDataset(X_train, y_train)\n",
    "test_data = CustomDataset(X_test,  y_test)"
   ]
  },
  {
   "cell_type": "code",
   "execution_count": 11,
   "id": "077fca72",
   "metadata": {
    "execution": {
     "iopub.execute_input": "2025-05-17T20:41:35.758324Z",
     "iopub.status.busy": "2025-05-17T20:41:35.758089Z",
     "iopub.status.idle": "2025-05-17T20:41:35.762494Z",
     "shell.execute_reply": "2025-05-17T20:41:35.761946Z"
    },
    "papermill": {
     "duration": 0.009355,
     "end_time": "2025-05-17T20:41:35.763465",
     "exception": false,
     "start_time": "2025-05-17T20:41:35.754110",
     "status": "completed"
    },
    "tags": []
   },
   "outputs": [],
   "source": [
    "train_loader = DataLoader(train_data, batch_size= 32, shuffle=True)\n",
    "test_loader = DataLoader(test_data, batch_size= 32, shuffle=False)"
   ]
  },
  {
   "cell_type": "code",
   "execution_count": 12,
   "id": "18a8249a",
   "metadata": {
    "execution": {
     "iopub.execute_input": "2025-05-17T20:41:35.770721Z",
     "iopub.status.busy": "2025-05-17T20:41:35.770532Z",
     "iopub.status.idle": "2025-05-17T20:41:35.775210Z",
     "shell.execute_reply": "2025-05-17T20:41:35.774513Z"
    },
    "papermill": {
     "duration": 0.009919,
     "end_time": "2025-05-17T20:41:35.776648",
     "exception": false,
     "start_time": "2025-05-17T20:41:35.766729",
     "status": "completed"
    },
    "tags": []
   },
   "outputs": [],
   "source": [
    "class NeuralNet(nn.Module):\n",
    "    def __init__(self, num_features):\n",
    "        super().__init__()\n",
    "        self.model = nn.Sequential(\n",
    "            nn.Linear(num_features, 128),\n",
    "            nn.ReLU(),\n",
    "            nn.Linear(128, 64),\n",
    "            nn.ReLU(),\n",
    "            nn.Linear(64, 16),\n",
    "            nn.ReLU(),\n",
    "            nn.Linear(16, 10)\n",
    "        )\n",
    "\n",
    "    def forward(self, x):\n",
    "        return self.model(x)"
   ]
  },
  {
   "cell_type": "code",
   "execution_count": 13,
   "id": "9a5d4aaf",
   "metadata": {
    "execution": {
     "iopub.execute_input": "2025-05-17T20:41:35.784709Z",
     "iopub.status.busy": "2025-05-17T20:41:35.784461Z",
     "iopub.status.idle": "2025-05-17T20:41:35.787710Z",
     "shell.execute_reply": "2025-05-17T20:41:35.787198Z"
    },
    "papermill": {
     "duration": 0.008397,
     "end_time": "2025-05-17T20:41:35.788831",
     "exception": false,
     "start_time": "2025-05-17T20:41:35.780434",
     "status": "completed"
    },
    "tags": []
   },
   "outputs": [],
   "source": [
    "epochs = 100\n",
    "learning_rate = 0.1"
   ]
  },
  {
   "cell_type": "code",
   "execution_count": 14,
   "id": "475fc1b6",
   "metadata": {
    "execution": {
     "iopub.execute_input": "2025-05-17T20:41:35.796417Z",
     "iopub.status.busy": "2025-05-17T20:41:35.796224Z",
     "iopub.status.idle": "2025-05-17T20:41:40.227215Z",
     "shell.execute_reply": "2025-05-17T20:41:40.226315Z"
    },
    "papermill": {
     "duration": 4.436086,
     "end_time": "2025-05-17T20:41:40.228563",
     "exception": false,
     "start_time": "2025-05-17T20:41:35.792477",
     "status": "completed"
    },
    "tags": []
   },
   "outputs": [],
   "source": [
    "model = NeuralNet(num_features = X_train.shape[1])\n",
    "\n",
    "loss_function = nn.CrossEntropyLoss()\n",
    "optimizer = torch.optim.SGD(model.parameters(), lr=learning_rate)"
   ]
  },
  {
   "cell_type": "code",
   "execution_count": 15,
   "id": "c5793fc6",
   "metadata": {
    "execution": {
     "iopub.execute_input": "2025-05-17T20:41:40.236609Z",
     "iopub.status.busy": "2025-05-17T20:41:40.236245Z",
     "iopub.status.idle": "2025-05-17T20:41:40.242723Z",
     "shell.execute_reply": "2025-05-17T20:41:40.241839Z"
    },
    "papermill": {
     "duration": 0.011575,
     "end_time": "2025-05-17T20:41:40.243769",
     "exception": false,
     "start_time": "2025-05-17T20:41:40.232194",
     "status": "completed"
    },
    "tags": []
   },
   "outputs": [],
   "source": [
    "def train(num_epochs):\n",
    "    best_accuracy = 0.0\n",
    "    for epoch in range(1, num_epochs):\n",
    "        running_train_loss = 0.0\n",
    "        running_accuracy = 0.0\n",
    "        total = 0.0\n",
    "        running_val_loss = 0.0\n",
    "\n",
    "        for data in train_loader:\n",
    "            inputs, outputs = data\n",
    "            y_pred = model(inputs)\n",
    "            optimizer.zero_grad()  # clearing the gradients\n",
    "            train_loss = loss_function(y_pred, outputs)\n",
    "\n",
    "            train_loss.backward()\n",
    "            optimizer.step() # updating the gradients\n",
    "            running_train_loss += train_loss.item()   # tracks the loss value\n",
    "        avg_train_loss = running_train_loss / len(train_loader)\n",
    "\n",
    "        with torch.no_grad():\n",
    "            model.eval()\n",
    "            for batch_feat, batch_labels in test_loader:\n",
    "                predictions = model(batch_feat)\n",
    "                val_loss = loss_function(predictions, batch_labels)\n",
    "                _, predicted = torch.max(predictions, 1)\n",
    "\n",
    "                running_val_loss += val_loss.item()\n",
    "                total += batch_labels.size(0)\n",
    "\n",
    "                running_accuracy += (predicted == batch_labels).sum().item()\n",
    "            val_loss_value = running_val_loss / len(test_loader)\n",
    "\n",
    "        accuracy = running_accuracy / total\n",
    "\n",
    "        if accuracy > best_accuracy:\n",
    "            best_accuracy = accuracy\n",
    "\n",
    "\n",
    "        print(f\"Epoch: {epoch}, train_loss: {avg_train_loss}, val_loss: {val_loss_value}, accuracy: {accuracy}\")\n",
    "\n",
    "                \n",
    "                \n",
    "            "
   ]
  },
  {
   "cell_type": "code",
   "execution_count": 16,
   "id": "16dcedbe",
   "metadata": {
    "execution": {
     "iopub.execute_input": "2025-05-17T20:41:40.251693Z",
     "iopub.status.busy": "2025-05-17T20:41:40.251458Z",
     "iopub.status.idle": "2025-05-17T20:41:58.358372Z",
     "shell.execute_reply": "2025-05-17T20:41:58.357729Z"
    },
    "papermill": {
     "duration": 18.111904,
     "end_time": "2025-05-17T20:41:58.359340",
     "exception": false,
     "start_time": "2025-05-17T20:41:40.247436",
     "status": "completed"
    },
    "tags": []
   },
   "outputs": [
    {
     "name": "stdout",
     "output_type": "stream",
     "text": [
      "Epoch: 1, train_loss: 1.8815710997581483, val_loss: 1.3476344472483586, accuracy: 0.47833333333333333\n",
      "Epoch: 2, train_loss: 1.040725481112798, val_loss: 0.8864145655381052, accuracy: 0.6366666666666667\n",
      "Epoch: 3, train_loss: 0.8272622509797414, val_loss: 0.8067515288528643, accuracy: 0.6808333333333333\n",
      "Epoch: 4, train_loss: 0.7038348545630773, val_loss: 0.6705642028858787, accuracy: 0.7425\n",
      "Epoch: 5, train_loss: 0.6404025133450826, val_loss: 0.6569188433258157, accuracy: 0.7475\n",
      "Epoch: 6, train_loss: 0.592077908317248, val_loss: 0.6764127055281087, accuracy: 0.745\n",
      "Epoch: 7, train_loss: 0.5481052520871162, val_loss: 0.6069247259905464, accuracy: 0.7691666666666667\n",
      "Epoch: 8, train_loss: 0.524915909965833, val_loss: 0.5321646191571888, accuracy: 0.81\n",
      "Epoch: 9, train_loss: 0.4827703426281611, val_loss: 0.5118396019465045, accuracy: 0.8266666666666667\n",
      "Epoch: 10, train_loss: 0.4702054068446159, val_loss: 0.6148045510053635, accuracy: 0.7783333333333333\n",
      "Epoch: 11, train_loss: 0.43500154654184975, val_loss: 0.5389736890792847, accuracy: 0.7975\n",
      "Epoch: 12, train_loss: 0.4094865790506204, val_loss: 0.5256227062721002, accuracy: 0.8116666666666666\n",
      "Epoch: 13, train_loss: 0.4019706831375758, val_loss: 0.5258306064888051, accuracy: 0.8233333333333334\n",
      "Epoch: 14, train_loss: 0.38088472217321395, val_loss: 0.49359214933295, accuracy: 0.8366666666666667\n",
      "Epoch: 15, train_loss: 0.36539569690823553, val_loss: 0.49640875623414393, accuracy: 0.8341666666666666\n",
      "Epoch: 16, train_loss: 0.3539133125046889, val_loss: 0.5008745569931833, accuracy: 0.8275\n",
      "Epoch: 17, train_loss: 0.3302922285099824, val_loss: 0.667218909451836, accuracy: 0.7741666666666667\n",
      "Epoch: 18, train_loss: 0.329755350848039, val_loss: 0.5159582629015571, accuracy: 0.8233333333333334\n",
      "Epoch: 19, train_loss: 0.31803561220566434, val_loss: 0.5354444476726808, accuracy: 0.8275\n",
      "Epoch: 20, train_loss: 0.2982588798056046, val_loss: 0.5874914107354063, accuracy: 0.8175\n",
      "Epoch: 21, train_loss: 0.32071331535776454, val_loss: 0.5239992177015856, accuracy: 0.8308333333333333\n",
      "Epoch: 22, train_loss: 0.2878079430758953, val_loss: 0.5746763285837675, accuracy: 0.7983333333333333\n",
      "Epoch: 23, train_loss: 0.2950464900334676, val_loss: 0.5204788081740078, accuracy: 0.8316666666666667\n",
      "Epoch: 24, train_loss: 0.26442248026529946, val_loss: 0.49019014835357666, accuracy: 0.8416666666666667\n",
      "Epoch: 25, train_loss: 0.28631624035537245, val_loss: 0.6643683765279619, accuracy: 0.7891666666666667\n",
      "Epoch: 26, train_loss: 0.25335993548234303, val_loss: 0.561422829565249, accuracy: 0.8325\n",
      "Epoch: 27, train_loss: 0.23800870182613532, val_loss: 0.5816485285758972, accuracy: 0.8091666666666667\n",
      "Epoch: 28, train_loss: 0.23055866812666256, val_loss: 0.5966803564837104, accuracy: 0.8258333333333333\n",
      "Epoch: 29, train_loss: 0.21630211590478818, val_loss: 0.6362100816086719, accuracy: 0.8091666666666667\n",
      "Epoch: 30, train_loss: 0.2076722346742948, val_loss: 0.6271328333961336, accuracy: 0.8166666666666667\n",
      "Epoch: 31, train_loss: 0.20827105574309826, val_loss: 0.608510471684368, accuracy: 0.8283333333333334\n",
      "Epoch: 32, train_loss: 0.3322750071187814, val_loss: 0.5975600612398825, accuracy: 0.83\n",
      "Epoch: 33, train_loss: 0.23235049058993656, val_loss: 0.6336837477589908, accuracy: 0.8283333333333334\n",
      "Epoch: 34, train_loss: 0.19855271709462008, val_loss: 0.5973178779608325, accuracy: 0.8208333333333333\n",
      "Epoch: 35, train_loss: 0.19054245340327422, val_loss: 0.6711869188829472, accuracy: 0.83\n",
      "Epoch: 36, train_loss: 0.19261364545673132, val_loss: 0.6108297125289315, accuracy: 0.8258333333333333\n",
      "Epoch: 37, train_loss: 0.18050965063273908, val_loss: 0.5834423387913328, accuracy: 0.8333333333333334\n",
      "Epoch: 38, train_loss: 0.17690379541367293, val_loss: 0.6424185688558378, accuracy: 0.8358333333333333\n",
      "Epoch: 39, train_loss: 0.1796191013852755, val_loss: 0.679672745889739, accuracy: 0.8316666666666667\n",
      "Epoch: 40, train_loss: 0.18800480799749494, val_loss: 0.6021282635629177, accuracy: 0.8466666666666667\n",
      "Epoch: 41, train_loss: 0.16120043102651835, val_loss: 0.6785413085630065, accuracy: 0.835\n",
      "Epoch: 42, train_loss: 0.17697712123394013, val_loss: 0.6612558094294447, accuracy: 0.8258333333333333\n",
      "Epoch: 43, train_loss: 0.1745622757077217, val_loss: 0.7183225472506723, accuracy: 0.8283333333333334\n",
      "Epoch: 44, train_loss: 0.1690976231607298, val_loss: 0.6416927662334944, accuracy: 0.8291666666666667\n",
      "Epoch: 45, train_loss: 0.14064414883653323, val_loss: 0.7021821827480668, accuracy: 0.8316666666666667\n",
      "Epoch: 46, train_loss: 0.15643716473753252, val_loss: 0.6973242426389142, accuracy: 0.8091666666666667\n",
      "Epoch: 47, train_loss: 0.1498793406225741, val_loss: 0.6828764308440057, accuracy: 0.835\n",
      "Epoch: 48, train_loss: 0.1382737621385604, val_loss: 0.7532519366788236, accuracy: 0.8341666666666666\n",
      "Epoch: 49, train_loss: 0.1391362942631046, val_loss: 0.7134816325024554, accuracy: 0.8283333333333334\n",
      "Epoch: 50, train_loss: 0.12040287879606087, val_loss: 0.7713284900313929, accuracy: 0.825\n",
      "Epoch: 51, train_loss: 0.12322533724829554, val_loss: 0.7355989405983373, accuracy: 0.8275\n",
      "Epoch: 52, train_loss: 0.16341241475815574, val_loss: 0.8195895572241984, accuracy: 0.8116666666666666\n",
      "Epoch: 53, train_loss: 0.14301968244214852, val_loss: 0.703840073394148, accuracy: 0.8483333333333334\n",
      "Epoch: 54, train_loss: 0.12753248732537031, val_loss: 0.7559369094669819, accuracy: 0.8325\n",
      "Epoch: 55, train_loss: 0.12042102480307221, val_loss: 0.9233881286100337, accuracy: 0.8133333333333334\n",
      "Epoch: 56, train_loss: 0.11572381330033144, val_loss: 0.7418010138759488, accuracy: 0.8383333333333334\n",
      "Epoch: 57, train_loss: 0.17120432371273636, val_loss: 0.7840556043543314, accuracy: 0.8366666666666667\n",
      "Epoch: 58, train_loss: 0.11402353663618366, val_loss: 0.7398695869273261, accuracy: 0.84\n",
      "Epoch: 59, train_loss: 0.09773456193817158, val_loss: 0.7568291786469912, accuracy: 0.8366666666666667\n",
      "Epoch: 60, train_loss: 0.1169108316147079, val_loss: 0.8180948978191928, accuracy: 0.8258333333333333\n",
      "Epoch: 61, train_loss: 0.11211146430422862, val_loss: 0.8016601637201873, accuracy: 0.8408333333333333\n",
      "Epoch: 62, train_loss: 0.09884571949175248, val_loss: 0.8087029698255815, accuracy: 0.8333333333333334\n",
      "Epoch: 63, train_loss: 0.0965885007272785, val_loss: 0.71009934497507, accuracy: 0.8316666666666667\n",
      "Epoch: 64, train_loss: 0.07792644114543994, val_loss: 0.917425585812644, accuracy: 0.815\n",
      "Epoch: 65, train_loss: 0.07887011109385639, val_loss: 0.8530914759949634, accuracy: 0.8241666666666667\n",
      "Epoch: 66, train_loss: 0.08929762843064964, val_loss: 0.8473476124437231, accuracy: 0.8258333333333333\n",
      "Epoch: 67, train_loss: 0.08008596641011537, val_loss: 0.9091652372950002, accuracy: 0.8375\n",
      "Epoch: 68, train_loss: 0.07826615802167604, val_loss: 0.9098780006170273, accuracy: 0.8416666666666667\n",
      "Epoch: 69, train_loss: 0.06921794733032584, val_loss: 0.900547563245422, accuracy: 0.8341666666666666\n",
      "Epoch: 70, train_loss: 0.10109985041121641, val_loss: 0.8558147294740928, accuracy: 0.8391666666666666\n",
      "Epoch: 71, train_loss: 0.168870115224272, val_loss: 0.8291983561296212, accuracy: 0.83\n",
      "Epoch: 72, train_loss: 0.10688648804401359, val_loss: 0.8473909991352182, accuracy: 0.8325\n",
      "Epoch: 73, train_loss: 0.08042182033571105, val_loss: 0.8749741402111555, accuracy: 0.8283333333333334\n",
      "Epoch: 74, train_loss: 0.08130676227932175, val_loss: 0.9809269387471048, accuracy: 0.8241666666666667\n",
      "Epoch: 75, train_loss: 0.07161890056139479, val_loss: 0.8260592935900939, accuracy: 0.8391666666666666\n",
      "Epoch: 76, train_loss: 0.08113280463653307, val_loss: 0.8643071204423904, accuracy: 0.8125\n",
      "Epoch: 77, train_loss: 0.07521606898400933, val_loss: 0.9214756179012751, accuracy: 0.8325\n",
      "Epoch: 78, train_loss: 0.09281053051779357, val_loss: 1.0537311395532207, accuracy: 0.8133333333333334\n",
      "Epoch: 79, train_loss: 0.07655726914914945, val_loss: 0.8835282435542658, accuracy: 0.8433333333333334\n",
      "Epoch: 80, train_loss: 0.053132563339701545, val_loss: 0.9054617760212798, accuracy: 0.8458333333333333\n",
      "Epoch: 81, train_loss: 0.0727876389445737, val_loss: 0.9283240237518361, accuracy: 0.8333333333333334\n",
      "Epoch: 82, train_loss: 0.03782007847602169, val_loss: 1.024324526520152, accuracy: 0.8333333333333334\n",
      "Epoch: 83, train_loss: 0.06568582478871879, val_loss: 1.0050065086076134, accuracy: 0.8325\n",
      "Epoch: 84, train_loss: 0.05377350679695762, val_loss: 1.1959528640696877, accuracy: 0.8258333333333333\n",
      "Epoch: 85, train_loss: 0.07476092007632057, val_loss: 1.016946474972524, accuracy: 0.8241666666666667\n",
      "Epoch: 86, train_loss: 0.048182652950054035, val_loss: 1.0646273380047397, accuracy: 0.8291666666666667\n",
      "Epoch: 87, train_loss: 0.044120249524712565, val_loss: 0.9973599691140024, accuracy: 0.83\n",
      "Epoch: 88, train_loss: 0.052427050983533265, val_loss: 1.0813427653751875, accuracy: 0.8308333333333333\n",
      "Epoch: 89, train_loss: 0.07803352158904696, val_loss: 1.0421244764798565, accuracy: 0.8375\n",
      "Epoch: 90, train_loss: 0.04056229586014524, val_loss: 1.0359231319866682, accuracy: 0.8391666666666666\n",
      "Epoch: 91, train_loss: 0.05196821493795142, val_loss: 0.9748131072050646, accuracy: 0.8483333333333334\n",
      "Epoch: 92, train_loss: 0.046657796930521724, val_loss: 1.0232123379644595, accuracy: 0.84\n",
      "Epoch: 93, train_loss: 0.0394543997462218, val_loss: 1.1923479147647555, accuracy: 0.8308333333333333\n",
      "Epoch: 94, train_loss: 0.02889012202368273, val_loss: 1.1205528990218514, accuracy: 0.8333333333333334\n",
      "Epoch: 95, train_loss: 0.08004078050570873, val_loss: 1.0697860325637616, accuracy: 0.8275\n",
      "Epoch: 96, train_loss: 0.04058073567187724, val_loss: 1.0505596838499371, accuracy: 0.8283333333333334\n",
      "Epoch: 97, train_loss: 0.030400981508622256, val_loss: 1.1298090211654965, accuracy: 0.8408333333333333\n",
      "Epoch: 98, train_loss: 0.011769909052721536, val_loss: 1.217425115798649, accuracy: 0.835\n",
      "Epoch: 99, train_loss: 0.04801375434947355, val_loss: 1.0835241816545789, accuracy: 0.8366666666666667\n"
     ]
    }
   ],
   "source": [
    "train(num_epochs=epochs)"
   ]
  },
  {
   "cell_type": "code",
   "execution_count": null,
   "id": "42c4d38c",
   "metadata": {
    "papermill": {
     "duration": 0.004512,
     "end_time": "2025-05-17T20:41:58.370039",
     "exception": false,
     "start_time": "2025-05-17T20:41:58.365527",
     "status": "completed"
    },
    "tags": []
   },
   "outputs": [],
   "source": []
  }
 ],
 "metadata": {
  "kaggle": {
   "accelerator": "none",
   "dataSources": [
    {
     "datasetId": 7442007,
     "sourceId": 11844635,
     "sourceType": "datasetVersion"
    }
   ],
   "dockerImageVersionId": 31040,
   "isGpuEnabled": false,
   "isInternetEnabled": true,
   "language": "python",
   "sourceType": "notebook"
  },
  "kernelspec": {
   "display_name": "Python 3",
   "language": "python",
   "name": "python3"
  },
  "language_info": {
   "codemirror_mode": {
    "name": "ipython",
    "version": 3
   },
   "file_extension": ".py",
   "mimetype": "text/x-python",
   "name": "python",
   "nbconvert_exporter": "python",
   "pygments_lexer": "ipython3",
   "version": "3.11.11"
  },
  "papermill": {
   "default_parameters": {},
   "duration": 38.868199,
   "end_time": "2025-05-17T20:42:01.044076",
   "environment_variables": {},
   "exception": null,
   "input_path": "__notebook__.ipynb",
   "output_path": "__notebook__.ipynb",
   "parameters": {},
   "start_time": "2025-05-17T20:41:22.175877",
   "version": "2.6.0"
  }
 },
 "nbformat": 4,
 "nbformat_minor": 5
}
