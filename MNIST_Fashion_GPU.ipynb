{
 "cells": [
  {
   "cell_type": "code",
   "execution_count": 1,
   "id": "c96ff330",
   "metadata": {
    "execution": {
     "iopub.execute_input": "2025-05-17T21:25:49.078354Z",
     "iopub.status.busy": "2025-05-17T21:25:49.078094Z",
     "iopub.status.idle": "2025-05-17T21:25:55.804493Z",
     "shell.execute_reply": "2025-05-17T21:25:55.803772Z"
    },
    "papermill": {
     "duration": 6.732349,
     "end_time": "2025-05-17T21:25:55.806065",
     "exception": false,
     "start_time": "2025-05-17T21:25:49.073716",
     "status": "completed"
    },
    "tags": []
   },
   "outputs": [],
   "source": [
    "import torch\n",
    "import torch.nn as nn\n",
    "import torch.nn.functional as F\n",
    "from torch.utils.data import DataLoader, Dataset\n",
    "import torch.optim as optim\n",
    "import pandas as pd\n",
    "import numpy as np\n",
    "from sklearn.model_selection import train_test_split\n",
    "import matplotlib.pyplot as plt"
   ]
  },
  {
   "cell_type": "code",
   "execution_count": 2,
   "id": "9d4618ff",
   "metadata": {
    "execution": {
     "iopub.execute_input": "2025-05-17T21:25:55.812851Z",
     "iopub.status.busy": "2025-05-17T21:25:55.812265Z",
     "iopub.status.idle": "2025-05-17T21:25:55.917560Z",
     "shell.execute_reply": "2025-05-17T21:25:55.916712Z"
    },
    "papermill": {
     "duration": 0.110164,
     "end_time": "2025-05-17T21:25:55.919233",
     "exception": false,
     "start_time": "2025-05-17T21:25:55.809069",
     "status": "completed"
    },
    "tags": []
   },
   "outputs": [
    {
     "data": {
      "text/plain": [
       "'cuda:0'"
      ]
     },
     "execution_count": 2,
     "metadata": {},
     "output_type": "execute_result"
    }
   ],
   "source": [
    "device = \"cuda:0\" if torch.cuda.is_available() else \"cpu\"\n",
    "device"
   ]
  },
  {
   "cell_type": "code",
   "execution_count": 3,
   "id": "ab9d3cd4",
   "metadata": {
    "execution": {
     "iopub.execute_input": "2025-05-17T21:25:55.926132Z",
     "iopub.status.busy": "2025-05-17T21:25:55.925904Z",
     "iopub.status.idle": "2025-05-17T21:26:00.758746Z",
     "shell.execute_reply": "2025-05-17T21:26:00.758059Z"
    },
    "papermill": {
     "duration": 4.837405,
     "end_time": "2025-05-17T21:26:00.760044",
     "exception": false,
     "start_time": "2025-05-17T21:25:55.922639",
     "status": "completed"
    },
    "tags": []
   },
   "outputs": [
    {
     "data": {
      "text/html": [
       "<div>\n",
       "<style scoped>\n",
       "    .dataframe tbody tr th:only-of-type {\n",
       "        vertical-align: middle;\n",
       "    }\n",
       "\n",
       "    .dataframe tbody tr th {\n",
       "        vertical-align: top;\n",
       "    }\n",
       "\n",
       "    .dataframe thead th {\n",
       "        text-align: right;\n",
       "    }\n",
       "</style>\n",
       "<table border=\"1\" class=\"dataframe\">\n",
       "  <thead>\n",
       "    <tr style=\"text-align: right;\">\n",
       "      <th></th>\n",
       "      <th>label</th>\n",
       "      <th>pixel1</th>\n",
       "      <th>pixel2</th>\n",
       "      <th>pixel3</th>\n",
       "      <th>pixel4</th>\n",
       "      <th>pixel5</th>\n",
       "      <th>pixel6</th>\n",
       "      <th>pixel7</th>\n",
       "      <th>pixel8</th>\n",
       "      <th>pixel9</th>\n",
       "      <th>...</th>\n",
       "      <th>pixel775</th>\n",
       "      <th>pixel776</th>\n",
       "      <th>pixel777</th>\n",
       "      <th>pixel778</th>\n",
       "      <th>pixel779</th>\n",
       "      <th>pixel780</th>\n",
       "      <th>pixel781</th>\n",
       "      <th>pixel782</th>\n",
       "      <th>pixel783</th>\n",
       "      <th>pixel784</th>\n",
       "    </tr>\n",
       "  </thead>\n",
       "  <tbody>\n",
       "    <tr>\n",
       "      <th>0</th>\n",
       "      <td>2</td>\n",
       "      <td>0</td>\n",
       "      <td>0</td>\n",
       "      <td>0</td>\n",
       "      <td>0</td>\n",
       "      <td>0</td>\n",
       "      <td>0</td>\n",
       "      <td>0</td>\n",
       "      <td>0</td>\n",
       "      <td>0</td>\n",
       "      <td>...</td>\n",
       "      <td>0</td>\n",
       "      <td>0</td>\n",
       "      <td>0</td>\n",
       "      <td>0</td>\n",
       "      <td>0</td>\n",
       "      <td>0</td>\n",
       "      <td>0</td>\n",
       "      <td>0</td>\n",
       "      <td>0</td>\n",
       "      <td>0</td>\n",
       "    </tr>\n",
       "    <tr>\n",
       "      <th>1</th>\n",
       "      <td>9</td>\n",
       "      <td>0</td>\n",
       "      <td>0</td>\n",
       "      <td>0</td>\n",
       "      <td>0</td>\n",
       "      <td>0</td>\n",
       "      <td>0</td>\n",
       "      <td>0</td>\n",
       "      <td>0</td>\n",
       "      <td>0</td>\n",
       "      <td>...</td>\n",
       "      <td>0</td>\n",
       "      <td>0</td>\n",
       "      <td>0</td>\n",
       "      <td>0</td>\n",
       "      <td>0</td>\n",
       "      <td>0</td>\n",
       "      <td>0</td>\n",
       "      <td>0</td>\n",
       "      <td>0</td>\n",
       "      <td>0</td>\n",
       "    </tr>\n",
       "    <tr>\n",
       "      <th>2</th>\n",
       "      <td>6</td>\n",
       "      <td>0</td>\n",
       "      <td>0</td>\n",
       "      <td>0</td>\n",
       "      <td>0</td>\n",
       "      <td>0</td>\n",
       "      <td>0</td>\n",
       "      <td>0</td>\n",
       "      <td>5</td>\n",
       "      <td>0</td>\n",
       "      <td>...</td>\n",
       "      <td>0</td>\n",
       "      <td>0</td>\n",
       "      <td>0</td>\n",
       "      <td>30</td>\n",
       "      <td>43</td>\n",
       "      <td>0</td>\n",
       "      <td>0</td>\n",
       "      <td>0</td>\n",
       "      <td>0</td>\n",
       "      <td>0</td>\n",
       "    </tr>\n",
       "    <tr>\n",
       "      <th>3</th>\n",
       "      <td>0</td>\n",
       "      <td>0</td>\n",
       "      <td>0</td>\n",
       "      <td>0</td>\n",
       "      <td>1</td>\n",
       "      <td>2</td>\n",
       "      <td>0</td>\n",
       "      <td>0</td>\n",
       "      <td>0</td>\n",
       "      <td>0</td>\n",
       "      <td>...</td>\n",
       "      <td>3</td>\n",
       "      <td>0</td>\n",
       "      <td>0</td>\n",
       "      <td>0</td>\n",
       "      <td>0</td>\n",
       "      <td>1</td>\n",
       "      <td>0</td>\n",
       "      <td>0</td>\n",
       "      <td>0</td>\n",
       "      <td>0</td>\n",
       "    </tr>\n",
       "    <tr>\n",
       "      <th>4</th>\n",
       "      <td>3</td>\n",
       "      <td>0</td>\n",
       "      <td>0</td>\n",
       "      <td>0</td>\n",
       "      <td>0</td>\n",
       "      <td>0</td>\n",
       "      <td>0</td>\n",
       "      <td>0</td>\n",
       "      <td>0</td>\n",
       "      <td>0</td>\n",
       "      <td>...</td>\n",
       "      <td>0</td>\n",
       "      <td>0</td>\n",
       "      <td>0</td>\n",
       "      <td>0</td>\n",
       "      <td>0</td>\n",
       "      <td>0</td>\n",
       "      <td>0</td>\n",
       "      <td>0</td>\n",
       "      <td>0</td>\n",
       "      <td>0</td>\n",
       "    </tr>\n",
       "  </tbody>\n",
       "</table>\n",
       "<p>5 rows × 785 columns</p>\n",
       "</div>"
      ],
      "text/plain": [
       "   label  pixel1  pixel2  pixel3  pixel4  pixel5  pixel6  pixel7  pixel8  \\\n",
       "0      2       0       0       0       0       0       0       0       0   \n",
       "1      9       0       0       0       0       0       0       0       0   \n",
       "2      6       0       0       0       0       0       0       0       5   \n",
       "3      0       0       0       0       1       2       0       0       0   \n",
       "4      3       0       0       0       0       0       0       0       0   \n",
       "\n",
       "   pixel9  ...  pixel775  pixel776  pixel777  pixel778  pixel779  pixel780  \\\n",
       "0       0  ...         0         0         0         0         0         0   \n",
       "1       0  ...         0         0         0         0         0         0   \n",
       "2       0  ...         0         0         0        30        43         0   \n",
       "3       0  ...         3         0         0         0         0         1   \n",
       "4       0  ...         0         0         0         0         0         0   \n",
       "\n",
       "   pixel781  pixel782  pixel783  pixel784  \n",
       "0         0         0         0         0  \n",
       "1         0         0         0         0  \n",
       "2         0         0         0         0  \n",
       "3         0         0         0         0  \n",
       "4         0         0         0         0  \n",
       "\n",
       "[5 rows x 785 columns]"
      ]
     },
     "execution_count": 3,
     "metadata": {},
     "output_type": "execute_result"
    }
   ],
   "source": [
    "df = pd.read_csv(\"/kaggle/input/fashionmnist/fashion-mnist_train.csv\")\n",
    "df.head(5)"
   ]
  },
  {
   "cell_type": "code",
   "execution_count": 4,
   "id": "a0372270",
   "metadata": {
    "execution": {
     "iopub.execute_input": "2025-05-17T21:26:00.767149Z",
     "iopub.status.busy": "2025-05-17T21:26:00.766940Z",
     "iopub.status.idle": "2025-05-17T21:26:01.836895Z",
     "shell.execute_reply": "2025-05-17T21:26:01.836178Z"
    },
    "papermill": {
     "duration": 1.075399,
     "end_time": "2025-05-17T21:26:01.838689",
     "exception": false,
     "start_time": "2025-05-17T21:26:00.763290",
     "status": "completed"
    },
    "tags": []
   },
   "outputs": [
    {
     "data": {
      "image/png": "[encoded data removed]",
      "text/plain": [
       "<Figure size 1000x1000 with 16 Axes>"
      ]
     },
     "metadata": {},
     "output_type": "display_data"
    }
   ],
   "source": [
    "fig, axes = plt.subplots(4, 4, figsize=(10, 10))\n",
    "fig.suptitle(\"showing image\")\n",
    "\n",
    "for i, ax in enumerate(axes.flat):\n",
    "    img = df.iloc[i, 1:].values.reshape(28, 28)\n",
    "    ax.imshow(img)\n",
    "    ax.axis(\"off\")\n",
    "    ax.set_title(f\"Label: {df.iloc[i, 0]}\")\n",
    "\n",
    "plt.tight_layout(rect=[0,0,1,0.96])\n",
    "plt.show()\n",
    "    "
   ]
  },
  {
   "cell_type": "code",
   "execution_count": 5,
   "id": "24e12d75",
   "metadata": {
    "execution": {
     "iopub.execute_input": "2025-05-17T21:26:01.847197Z",
     "iopub.status.busy": "2025-05-17T21:26:01.846981Z",
     "iopub.status.idle": "2025-05-17T21:26:01.850892Z",
     "shell.execute_reply": "2025-05-17T21:26:01.850149Z"
    },
    "papermill": {
     "duration": 0.009356,
     "end_time": "2025-05-17T21:26:01.852015",
     "exception": false,
     "start_time": "2025-05-17T21:26:01.842659",
     "status": "completed"
    },
    "tags": []
   },
   "outputs": [],
   "source": [
    "X = df.iloc[:, 1:].values\n",
    "y = df.iloc[:, 0].values"
   ]
  },
  {
   "cell_type": "code",
   "execution_count": 6,
   "id": "5866c7a4",
   "metadata": {
    "execution": {
     "iopub.execute_input": "2025-05-17T21:26:01.859808Z",
     "iopub.status.busy": "2025-05-17T21:26:01.859544Z",
     "iopub.status.idle": "2025-05-17T21:26:02.394709Z",
     "shell.execute_reply": "2025-05-17T21:26:02.394044Z"
    },
    "papermill": {
     "duration": 0.540629,
     "end_time": "2025-05-17T21:26:02.396132",
     "exception": false,
     "start_time": "2025-05-17T21:26:01.855503",
     "status": "completed"
    },
    "tags": []
   },
   "outputs": [],
   "source": [
    "X_train, X_test, y_train, y_test = train_test_split(X, y, test_size=0.2, random_state=42)"
   ]
  },
  {
   "cell_type": "code",
   "execution_count": 7,
   "id": "3a3a50c6",
   "metadata": {
    "execution": {
     "iopub.execute_input": "2025-05-17T21:26:02.404636Z",
     "iopub.status.busy": "2025-05-17T21:26:02.404386Z",
     "iopub.status.idle": "2025-05-17T21:26:02.554137Z",
     "shell.execute_reply": "2025-05-17T21:26:02.553527Z"
    },
    "papermill": {
     "duration": 0.155343,
     "end_time": "2025-05-17T21:26:02.555498",
     "exception": false,
     "start_time": "2025-05-17T21:26:02.400155",
     "status": "completed"
    },
    "tags": []
   },
   "outputs": [],
   "source": [
    "X_train = X_train / 255.0\n",
    "X_test = X_test / 255.0"
   ]
  },
  {
   "cell_type": "code",
   "execution_count": 8,
   "id": "acba25c2",
   "metadata": {
    "execution": {
     "iopub.execute_input": "2025-05-17T21:26:02.564115Z",
     "iopub.status.busy": "2025-05-17T21:26:02.563523Z",
     "iopub.status.idle": "2025-05-17T21:26:02.567910Z",
     "shell.execute_reply": "2025-05-17T21:26:02.567371Z"
    },
    "papermill": {
     "duration": 0.009817,
     "end_time": "2025-05-17T21:26:02.569156",
     "exception": false,
     "start_time": "2025-05-17T21:26:02.559339",
     "status": "completed"
    },
    "tags": []
   },
   "outputs": [],
   "source": [
    "class CustomDataset(Dataset):\n",
    "    def __init__(self, features, labels):\n",
    "        self.features = torch.tensor(features, dtype=torch.float32)\n",
    "        self.labels = torch.tensor(labels, dtype = torch.long)\n",
    "\n",
    "    def __len__(self):\n",
    "        return len(self.features)\n",
    "\n",
    "    def __getitem__(self, idx):\n",
    "        return self.features[idx], self.labels[idx]"
   ]
  },
  {
   "cell_type": "code",
   "execution_count": 9,
   "id": "db4e5a04",
   "metadata": {
    "execution": {
     "iopub.execute_input": "2025-05-17T21:26:02.577205Z",
     "iopub.status.busy": "2025-05-17T21:26:02.577009Z",
     "iopub.status.idle": "2025-05-17T21:26:02.677820Z",
     "shell.execute_reply": "2025-05-17T21:26:02.677196Z"
    },
    "papermill": {
     "duration": 0.106243,
     "end_time": "2025-05-17T21:26:02.679162",
     "exception": false,
     "start_time": "2025-05-17T21:26:02.572919",
     "status": "completed"
    },
    "tags": []
   },
   "outputs": [],
   "source": [
    "train_dataset = CustomDataset(X_train, y_train)\n",
    "test_dataset  = CustomDataset(X_test, y_test)"
   ]
  },
  {
   "cell_type": "code",
   "execution_count": 10,
   "id": "cfc50538",
   "metadata": {
    "execution": {
     "iopub.execute_input": "2025-05-17T21:26:02.687923Z",
     "iopub.status.busy": "2025-05-17T21:26:02.687250Z",
     "iopub.status.idle": "2025-05-17T21:26:02.743162Z",
     "shell.execute_reply": "2025-05-17T21:26:02.742622Z"
    },
    "papermill": {
     "duration": 0.061075,
     "end_time": "2025-05-17T21:26:02.744104",
     "exception": false,
     "start_time": "2025-05-17T21:26:02.683029",
     "status": "completed"
    },
    "tags": []
   },
   "outputs": [
    {
     "data": {
      "text/plain": [
       "(tensor([0.0000, 0.0000, 0.0000, 0.0000, 0.0000, 0.0000, 0.0000, 0.0000, 0.0000,\n",
       "         0.0000, 0.0000, 0.0000, 0.0000, 0.0000, 0.0000, 0.0000, 0.0000, 0.0000,\n",
       "         0.0000, 0.0000, 0.0000, 0.0000, 0.0000, 0.0000, 0.0000, 0.0000, 0.0000,\n",
       "         0.0000, 0.0000, 0.0000, 0.0000, 0.0000, 0.0000, 0.0000, 0.0000, 0.0000,\n",
       "         0.0000, 0.0000, 0.0000, 0.0000, 0.0000, 0.0000, 0.0000, 0.0000, 0.0000,\n",
       "         0.0000, 0.0000, 0.0000, 0.0000, 0.0000, 0.0000, 0.0000, 0.0000, 0.0000,\n",
       "         0.0000, 0.0000, 0.0000, 0.0000, 0.0000, 0.0000, 0.0000, 0.0000, 0.0000,\n",
       "         0.0000, 0.0000, 0.0000, 0.0000, 0.0000, 0.0000, 0.0000, 0.0000, 0.0000,\n",
       "         0.0000, 0.0000, 0.0000, 0.0000, 0.0000, 0.0000, 0.0000, 0.0000, 0.0000,\n",
       "         0.0000, 0.0000, 0.0000, 0.0000, 0.0000, 0.0000, 0.0000, 0.0000, 0.0000,\n",
       "         0.0000, 0.0000, 0.0000, 0.0000, 0.0000, 0.0000, 0.0000, 0.0000, 0.0000,\n",
       "         0.0000, 0.0000, 0.0000, 0.0000, 0.0000, 0.0000, 0.0000, 0.0000, 0.2275,\n",
       "         0.5333, 0.0000, 0.0000, 0.0000, 0.0000, 0.0000, 0.0000, 0.0000, 0.0000,\n",
       "         0.0000, 0.0000, 0.0000, 0.0000, 0.0078, 0.0078, 0.0275, 0.0078, 0.0000,\n",
       "         0.0000, 0.0000, 0.0000, 0.0000, 0.0000, 0.0275, 0.2157, 0.3137, 0.4235,\n",
       "         0.5922, 1.0000, 0.0000, 0.0000, 0.0000, 0.0000, 0.0000, 0.0000, 0.0000,\n",
       "         0.0000, 0.0000, 0.0000, 0.0000, 0.0000, 0.0078, 0.0078, 0.0196, 0.0000,\n",
       "         0.0078, 0.0078, 0.0471, 0.2863, 0.4039, 0.5137, 0.5608, 0.5608, 0.6902,\n",
       "         0.6314, 0.3333, 0.3843, 0.0980, 0.0000, 0.0000, 0.0000, 0.0000, 0.0000,\n",
       "         0.0000, 0.0000, 0.0000, 0.0000, 0.0000, 0.0000, 0.0000, 0.0078, 0.0000,\n",
       "         0.0588, 0.4235, 0.5216, 0.5608, 0.7412, 0.7686, 0.7686, 0.7020, 0.4431,\n",
       "         0.3059, 0.1255, 0.0000, 0.2078, 0.4431, 0.0000, 0.0000, 0.0000, 0.0000,\n",
       "         0.0000, 0.0000, 0.0000, 0.0000, 0.0000, 0.0000, 0.0000, 0.0000, 0.0196,\n",
       "         0.0000, 0.0471, 0.1843, 0.1569, 0.1843, 0.0588, 0.0000, 0.0000, 0.0784,\n",
       "         0.0000, 0.0000, 0.0000, 0.0000, 0.0078, 0.7608, 0.2157, 0.0000, 0.0000,\n",
       "         0.0000, 0.0000, 0.0000, 0.0000, 0.0000, 0.0000, 0.0000, 0.0000, 0.0000,\n",
       "         0.0078, 0.0275, 0.0000, 0.0000, 0.0000, 0.0000, 0.0000, 0.0000, 0.0000,\n",
       "         0.0000, 0.0000, 0.0000, 0.0078, 0.0000, 0.0078, 0.7882, 0.6314, 0.0000,\n",
       "         0.0000, 0.0000, 0.0000, 0.0000, 0.0000, 0.0000, 0.0000, 0.0000, 0.0000,\n",
       "         0.0000, 0.0000, 0.0078, 0.0000, 0.0000, 0.0078, 0.0078, 0.0196, 0.0000,\n",
       "         0.0000, 0.0000, 0.0078, 0.0078, 0.0000, 0.0000, 0.1059, 0.8000, 0.6510,\n",
       "         0.0588, 0.0000, 0.0000, 0.0000, 0.0000, 0.0000, 0.0000, 0.0000, 0.0000,\n",
       "         0.0000, 0.0078, 0.0078, 0.0000, 0.0196, 0.0078, 0.0000, 0.0000, 0.0000,\n",
       "         0.0000, 0.0078, 0.0000, 0.0000, 0.0000, 0.0000, 0.0000, 0.3922, 0.8196,\n",
       "         0.5804, 0.1373, 0.0000, 0.0000, 0.0000, 0.0000, 0.0000, 0.0000, 0.0000,\n",
       "         0.0000, 0.0000, 0.0078, 0.0196, 0.0000, 0.0000, 0.0000, 0.0000, 0.0000,\n",
       "         0.0000, 0.0000, 0.0196, 0.0078, 0.0000, 0.0078, 0.0000, 0.0000, 0.6706,\n",
       "         0.8902, 0.1961, 0.1647, 0.0000, 0.0000, 0.0000, 0.0000, 0.0000, 0.0000,\n",
       "         0.0000, 0.0000, 0.0000, 0.0000, 0.0000, 0.0000, 0.0000, 0.0000, 0.0000,\n",
       "         0.0000, 0.0000, 0.0000, 0.0000, 0.0000, 0.0000, 0.0000, 0.0000, 0.0980,\n",
       "         0.9765, 0.5137, 0.1765, 0.3137, 0.0000, 0.0000, 0.0000, 0.0000, 0.0000,\n",
       "         0.0000, 0.0000, 0.0000, 0.0000, 0.0000, 0.0000, 0.0000, 0.0000, 0.0000,\n",
       "         0.0000, 0.0000, 0.0000, 0.0000, 0.0000, 0.0000, 0.0000, 0.0000, 0.0667,\n",
       "         0.2667, 0.4157, 0.2353, 0.3451, 0.1255, 0.0000, 0.0000, 0.0000, 0.0000,\n",
       "         0.0000, 0.0000, 0.0000, 0.0000, 0.0000, 0.0000, 0.0000, 0.0000, 0.0000,\n",
       "         0.0000, 0.0000, 0.0000, 0.0000, 0.0000, 0.0000, 0.0000, 0.0980, 0.1843,\n",
       "         0.2745, 0.7490, 0.4431, 0.0863, 0.0588, 0.0000, 0.0000, 0.0000, 0.0000,\n",
       "         0.0000, 0.0000, 0.0000, 0.0000, 0.0000, 0.0000, 0.0000, 0.0000, 0.0000,\n",
       "         0.0000, 0.0000, 0.0000, 0.0000, 0.0000, 0.0000, 0.0588, 0.0980, 0.2941,\n",
       "         0.6902, 0.8314, 0.4235, 0.4824, 0.1373, 0.0863, 0.0275, 0.0000, 0.0000,\n",
       "         0.0000, 0.0000, 0.0000, 0.0078, 0.0000, 0.0078, 0.0000, 0.0000, 0.0000,\n",
       "         0.0000, 0.0000, 0.0078, 0.0000, 0.0000, 0.0000, 0.0980, 0.2863, 0.5804,\n",
       "         0.8196, 0.1647, 0.0000, 0.0000, 0.1255, 0.4627, 0.0196, 0.0000, 0.0000,\n",
       "         0.0000, 0.0000, 0.0000, 0.0000, 0.0000, 0.0000, 0.0000, 0.0000, 0.0000,\n",
       "         0.0000, 0.0000, 0.0000, 0.0000, 0.0000, 0.0000, 0.0667, 0.3255, 0.6118,\n",
       "         0.5922, 0.0000, 0.0000, 0.0000, 0.0000, 0.0078, 0.6235, 0.1961, 0.0000,\n",
       "         0.0000, 0.0000, 0.0000, 0.0000, 0.0000, 0.0000, 0.0000, 0.0000, 0.0000,\n",
       "         0.0000, 0.0000, 0.0000, 0.0000, 0.0078, 0.0000, 0.0196, 0.3451, 0.6824,\n",
       "         0.4235, 0.0000, 0.0000, 0.0078, 0.0000, 0.0000, 0.0000, 0.8196, 0.2863,\n",
       "         0.0000, 0.0000, 0.0000, 0.0000, 0.0000, 0.0000, 0.1059, 0.0667, 0.4627,\n",
       "         0.2157, 0.0000, 0.0000, 0.0000, 0.0000, 0.0000, 0.0000, 0.1961, 0.6627,\n",
       "         0.4627, 0.0000, 0.0000, 0.0275, 0.0000, 0.0000, 0.0000, 0.0000, 0.6627,\n",
       "         0.3137, 0.0000, 0.0000, 0.0000, 0.0000, 0.0000, 0.0471, 0.2078, 0.0392,\n",
       "         0.3059, 0.6039, 0.0000, 0.0000, 0.0000, 0.0000, 0.0000, 0.0863, 0.8000,\n",
       "         0.5333, 0.0000, 0.0000, 0.0000, 0.0000, 0.0000, 0.0078, 0.0000, 0.0000,\n",
       "         0.6902, 0.4157, 0.0000, 0.0000, 0.0000, 0.0000, 0.0078, 0.0275, 0.0000,\n",
       "         0.0275, 0.0196, 0.6431, 0.0078, 0.0000, 0.0000, 0.0000, 0.2941, 0.5725,\n",
       "         0.7490, 0.0000, 0.0000, 0.0000, 0.0000, 0.0000, 0.0000, 0.0078, 0.0000,\n",
       "         0.0000, 0.7294, 0.4824, 0.0000, 0.1176, 0.2353, 0.0980, 0.1059, 0.2667,\n",
       "         0.3255, 0.1843, 0.2078, 0.3725, 0.1765, 0.0000, 0.0784, 0.4627, 0.6627,\n",
       "         0.6235, 0.0000, 0.0000, 0.0078, 0.0000, 0.0000, 0.0000, 0.0000, 0.0000,\n",
       "         0.0000, 0.0000, 0.6627, 0.3333, 0.0000, 0.1059, 0.4627, 0.5216, 0.4745,\n",
       "         0.3922, 0.5412, 0.2941, 0.3137, 0.2863, 0.4745, 0.5412, 0.5412, 0.6824,\n",
       "         0.6314, 0.0078, 0.0000, 0.0196, 0.0078, 0.0000, 0.0000, 0.0000, 0.0000,\n",
       "         0.0000, 0.0078, 0.0000, 0.6235, 0.5608, 0.0000, 0.0000, 0.0000, 0.0000,\n",
       "         0.0196, 0.1176, 0.2078, 0.1961, 0.3137, 0.2549, 0.4157, 0.5137, 0.1961,\n",
       "         0.2275, 0.0000, 0.0000, 0.0000, 0.0078, 0.0275, 0.0000, 0.0000, 0.0000,\n",
       "         0.0000, 0.0000, 0.0000, 0.0000, 0.5529, 0.5804, 0.0000, 0.0000, 0.0000,\n",
       "         0.0000, 0.0000, 0.0000, 0.0000, 0.0000, 0.0000, 0.0000, 0.0000, 0.0000,\n",
       "         0.0000, 0.0000, 0.0000, 0.0000, 0.0000, 0.0000, 0.0000, 0.0000, 0.0000,\n",
       "         0.0000, 0.0000, 0.0000, 0.0000, 0.0000, 0.0000, 0.0000, 0.0000, 0.0000,\n",
       "         0.0000, 0.0000, 0.0000, 0.0000, 0.0000, 0.0000, 0.0000, 0.0000, 0.0000,\n",
       "         0.0000, 0.0000, 0.0000, 0.0000, 0.0000, 0.0000, 0.0000, 0.0000, 0.0000,\n",
       "         0.0000, 0.0000, 0.0000, 0.0000, 0.0000, 0.0000, 0.0000, 0.0000, 0.0000,\n",
       "         0.0000, 0.0000, 0.0000, 0.0000, 0.0000, 0.0000, 0.0000, 0.0000, 0.0000,\n",
       "         0.0000, 0.0000, 0.0000, 0.0000, 0.0000, 0.0000, 0.0000, 0.0000, 0.0000,\n",
       "         0.0000, 0.0000, 0.0000, 0.0000, 0.0000, 0.0000, 0.0000, 0.0000, 0.0000,\n",
       "         0.0000]),\n",
       " tensor(5))"
      ]
     },
     "execution_count": 10,
     "metadata": {},
     "output_type": "execute_result"
    }
   ],
   "source": [
    "train_dataset[0]"
   ]
  },
  {
   "cell_type": "code",
   "execution_count": 11,
   "id": "b9d5e6c5",
   "metadata": {
    "execution": {
     "iopub.execute_input": "2025-05-17T21:26:02.752131Z",
     "iopub.status.busy": "2025-05-17T21:26:02.751943Z",
     "iopub.status.idle": "2025-05-17T21:26:02.755679Z",
     "shell.execute_reply": "2025-05-17T21:26:02.755010Z"
    },
    "papermill": {
     "duration": 0.00881,
     "end_time": "2025-05-17T21:26:02.756690",
     "exception": false,
     "start_time": "2025-05-17T21:26:02.747880",
     "status": "completed"
    },
    "tags": []
   },
   "outputs": [],
   "source": [
    "train_loader = DataLoader(train_dataset, batch_size= 128, shuffle=True, pin_memory=True)\n",
    "test_loader = DataLoader(test_dataset, batch_size=128, shuffle=False, pin_memory=True)"
   ]
  },
  {
   "cell_type": "code",
   "execution_count": 12,
   "id": "e41c79b4",
   "metadata": {
    "execution": {
     "iopub.execute_input": "2025-05-17T21:26:02.765031Z",
     "iopub.status.busy": "2025-05-17T21:26:02.764376Z",
     "iopub.status.idle": "2025-05-17T21:26:02.768677Z",
     "shell.execute_reply": "2025-05-17T21:26:02.767954Z"
    },
    "papermill": {
     "duration": 0.009485,
     "end_time": "2025-05-17T21:26:02.769766",
     "exception": false,
     "start_time": "2025-05-17T21:26:02.760281",
     "status": "completed"
    },
    "tags": []
   },
   "outputs": [],
   "source": [
    "class FashionNN(nn.Module):\n",
    "    def __init__(self, num_features):\n",
    "        super().__init__()\n",
    "        self.model = nn.Sequential(\n",
    "            nn.Linear(num_features, 128),\n",
    "            nn.ReLU(),\n",
    "            nn.Linear(128, 64),\n",
    "            nn.ReLU(),\n",
    "            nn.Linear(64, 10)\n",
    "        )\n",
    "\n",
    "    def forward(self, x):\n",
    "        return self.model(x)"
   ]
  },
  {
   "cell_type": "code",
   "execution_count": 13,
   "id": "4cbc6876",
   "metadata": {
    "execution": {
     "iopub.execute_input": "2025-05-17T21:26:02.777875Z",
     "iopub.status.busy": "2025-05-17T21:26:02.777656Z",
     "iopub.status.idle": "2025-05-17T21:26:07.365692Z",
     "shell.execute_reply": "2025-05-17T21:26:07.364915Z"
    },
    "papermill": {
     "duration": 4.593705,
     "end_time": "2025-05-17T21:26:07.367128",
     "exception": false,
     "start_time": "2025-05-17T21:26:02.773423",
     "status": "completed"
    },
    "tags": []
   },
   "outputs": [],
   "source": [
    "model = FashionNN(num_features = X_train.shape[1])\n",
    "model = model.to(device)\n",
    "\n",
    "epochs = 100\n",
    "learning_rate = 0.1\n",
    "loss_function = nn.CrossEntropyLoss()\n",
    "optimizer =  optim.SGD(model.parameters(), lr=learning_rate)"
   ]
  },
  {
   "cell_type": "code",
   "execution_count": 14,
   "id": "5333df8c",
   "metadata": {
    "execution": {
     "iopub.execute_input": "2025-05-17T21:26:07.376117Z",
     "iopub.status.busy": "2025-05-17T21:26:07.375771Z",
     "iopub.status.idle": "2025-05-17T21:26:07.382144Z",
     "shell.execute_reply": "2025-05-17T21:26:07.381532Z"
    },
    "papermill": {
     "duration": 0.011886,
     "end_time": "2025-05-17T21:26:07.383201",
     "exception": false,
     "start_time": "2025-05-17T21:26:07.371315",
     "status": "completed"
    },
    "tags": []
   },
   "outputs": [],
   "source": [
    "def train(num_epochs):\n",
    "    best_accuracy = 0.0\n",
    "    print(\"begin training\")\n",
    "    for epoch in range(num_epochs):\n",
    "        running_train_loss = 0.0\n",
    "        running_val_loss = 0.0\n",
    "        running_accuracy = 0.0\n",
    "        total = 0\n",
    "\n",
    "        for data in train_loader:\n",
    "            batch_feat, batch_labels = data\n",
    "            batch_feat, batch_labels = batch_feat.to(device), batch_labels.to(device)\n",
    "\n",
    "            output = model(batch_feat)\n",
    "\n",
    "            # calculate loss\n",
    "            train_loss = loss_function(output, batch_labels)\n",
    "            optimizer.zero_grad() # clearing the gradients\n",
    "\n",
    "            train_loss.backward()  # backward propagation\n",
    "\n",
    "            optimizer.step() # updating the gradients\n",
    "\n",
    "            running_train_loss += train_loss.item()\n",
    "\n",
    "        avg_train_loss = running_train_loss / len(train_loader)\n",
    "\n",
    "        with torch.no_grad():\n",
    "            model.eval()\n",
    "            for data in test_loader:\n",
    "                batch_feat, batch_labels = data\n",
    "                batch_feat, batch_labels = batch_feat.to(device), batch_labels.to(device)\n",
    "\n",
    "                prediction = model(batch_feat)\n",
    "                val_loss = loss_function(prediction, batch_labels)\n",
    "                _, predicted = torch.max(prediction, 1)\n",
    "\n",
    "                running_val_loss += val_loss.item()\n",
    "                total += batch_labels.size(0)\n",
    "\n",
    "                running_accuracy += (predicted == batch_labels).sum().item()\n",
    "            avg_val_loss = running_val_loss / len(test_loader)\n",
    "\n",
    "            accuracy = (100 * running_accuracy / total)\n",
    "\n",
    "        print(f\"Epoch: {epoch}, train_loss: {avg_train_loss}, val_loss: {avg_val_loss}, Accuracy: {accuracy}\")\n",
    "            \n",
    "        "
   ]
  },
  {
   "cell_type": "code",
   "execution_count": 15,
   "id": "1c72dbb1",
   "metadata": {
    "execution": {
     "iopub.execute_input": "2025-05-17T21:26:07.391275Z",
     "iopub.status.busy": "2025-05-17T21:26:07.391097Z",
     "iopub.status.idle": "2025-05-17T21:27:40.698056Z",
     "shell.execute_reply": "2025-05-17T21:27:40.697195Z"
    },
    "papermill": {
     "duration": 93.312434,
     "end_time": "2025-05-17T21:27:40.699348",
     "exception": false,
     "start_time": "2025-05-17T21:26:07.386914",
     "status": "completed"
    },
    "tags": []
   },
   "outputs": [
    {
     "name": "stdout",
     "output_type": "stream",
     "text": [
      "begin training\n",
      "Epoch: 0, train_loss: 0.8953908202648163, val_loss: 0.5667880069702229, Accuracy: 80.26666666666667\n",
      "Epoch: 1, train_loss: 0.53147243475914, val_loss: 0.526458553494291, Accuracy: 80.53333333333333\n",
      "Epoch: 2, train_loss: 0.4682612252632777, val_loss: 0.44426013212254706, Accuracy: 83.75\n",
      "Epoch: 3, train_loss: 0.4298185673952103, val_loss: 0.42468498488689993, Accuracy: 84.76666666666667\n",
      "Epoch: 4, train_loss: 0.40255289924144744, val_loss: 0.39937592186826343, Accuracy: 85.35833333333333\n",
      "Epoch: 5, train_loss: 0.379853754679362, val_loss: 0.3881717796655411, Accuracy: 85.54166666666667\n",
      "Epoch: 6, train_loss: 0.3641821853717168, val_loss: 0.3813985318262526, Accuracy: 86.375\n",
      "Epoch: 7, train_loss: 0.35283953126271567, val_loss: 0.3575045964185228, Accuracy: 86.81666666666666\n",
      "Epoch: 8, train_loss: 0.3410923780997594, val_loss: 0.35124244017803924, Accuracy: 87.08333333333333\n",
      "Epoch: 9, train_loss: 0.3293458118836085, val_loss: 0.348676343071968, Accuracy: 87.26666666666667\n",
      "Epoch: 10, train_loss: 0.323772296110789, val_loss: 0.32903974566687927, Accuracy: 87.775\n",
      "Epoch: 11, train_loss: 0.3091802563269933, val_loss: 0.34466388266771397, Accuracy: 87.14166666666667\n",
      "Epoch: 12, train_loss: 0.3057725723981857, val_loss: 0.3660823880357945, Accuracy: 86.31666666666666\n",
      "Epoch: 13, train_loss: 0.29703055930137634, val_loss: 0.3286740079205087, Accuracy: 87.75833333333334\n",
      "Epoch: 14, train_loss: 0.2908205196460088, val_loss: 0.3285187167373109, Accuracy: 87.73333333333333\n",
      "Epoch: 15, train_loss: 0.283728728055954, val_loss: 0.3298044497979448, Accuracy: 87.53333333333333\n",
      "Epoch: 16, train_loss: 0.2790284690062205, val_loss: 0.3284691867042095, Accuracy: 87.89166666666667\n",
      "Epoch: 17, train_loss: 0.2707969137032827, val_loss: 0.331335038105224, Accuracy: 88.125\n",
      "Epoch: 18, train_loss: 0.2672523541053136, val_loss: 0.3542635703974582, Accuracy: 86.08333333333333\n",
      "Epoch: 19, train_loss: 0.26084832966327665, val_loss: 0.30559031966518846, Accuracy: 88.40833333333333\n",
      "Epoch: 20, train_loss: 0.25640663675467174, val_loss: 0.3380481394681525, Accuracy: 87.59166666666667\n",
      "Epoch: 21, train_loss: 0.2505152717034022, val_loss: 0.30444727869744, Accuracy: 88.65833333333333\n",
      "Epoch: 22, train_loss: 0.24642589114109675, val_loss: 0.3688569625324391, Accuracy: 86.46666666666667\n",
      "Epoch: 23, train_loss: 0.24106973284482955, val_loss: 0.30652437438356117, Accuracy: 88.90833333333333\n",
      "Epoch: 24, train_loss: 0.23867443744341532, val_loss: 0.30733983916171054, Accuracy: 88.95\n",
      "Epoch: 25, train_loss: 0.23079370129108429, val_loss: 0.32263889734415296, Accuracy: 88.45833333333333\n",
      "Epoch: 26, train_loss: 0.23188515732685724, val_loss: 0.3129068267472247, Accuracy: 88.98333333333333\n",
      "Epoch: 27, train_loss: 0.22587790528933208, val_loss: 0.31401014534082816, Accuracy: 88.50833333333334\n",
      "Epoch: 28, train_loss: 0.22239021740357082, val_loss: 0.37219306002271935, Accuracy: 87.44166666666666\n",
      "Epoch: 29, train_loss: 0.21871612415711086, val_loss: 0.31678688510301267, Accuracy: 88.46666666666667\n",
      "Epoch: 30, train_loss: 0.2148045135339101, val_loss: 0.341070571319854, Accuracy: 88.025\n",
      "Epoch: 31, train_loss: 0.20924380411704382, val_loss: 0.31414260398200217, Accuracy: 88.50833333333334\n",
      "Epoch: 32, train_loss: 0.20827955319484076, val_loss: 0.35834634589388015, Accuracy: 86.55\n",
      "Epoch: 33, train_loss: 0.20652429187297822, val_loss: 0.31222102997150825, Accuracy: 88.49166666666666\n",
      "Epoch: 34, train_loss: 0.20137437323729196, val_loss: 0.3120125524224119, Accuracy: 89.20833333333333\n",
      "Epoch: 35, train_loss: 0.20003751397132874, val_loss: 0.317335438221059, Accuracy: 88.8\n",
      "Epoch: 36, train_loss: 0.19775983713070552, val_loss: 0.31011787041070615, Accuracy: 88.75\n",
      "Epoch: 37, train_loss: 0.19136461398998897, val_loss: 0.35557326040369397, Accuracy: 88.11666666666666\n",
      "Epoch: 38, train_loss: 0.1911197768251101, val_loss: 0.31427674843592845, Accuracy: 88.90833333333333\n",
      "Epoch: 39, train_loss: 0.18825423711538314, val_loss: 0.31165658817329306, Accuracy: 88.95\n",
      "Epoch: 40, train_loss: 0.18433660212159156, val_loss: 0.31694695020609714, Accuracy: 89.41666666666667\n",
      "Epoch: 41, train_loss: 0.18021227467060089, val_loss: 0.3166036678755537, Accuracy: 89.33333333333333\n",
      "Epoch: 42, train_loss: 0.1785600107908249, val_loss: 0.3140058479410537, Accuracy: 89.46666666666667\n",
      "Epoch: 43, train_loss: 0.1758220542470614, val_loss: 0.32628958466205193, Accuracy: 89.09166666666667\n",
      "Epoch: 44, train_loss: 0.1720990111033122, val_loss: 0.31824803027383824, Accuracy: 89.28333333333333\n",
      "Epoch: 45, train_loss: 0.16803472143411635, val_loss: 0.3352890987979605, Accuracy: 88.95\n",
      "Epoch: 46, train_loss: 0.16740568949778875, val_loss: 0.3231904988593243, Accuracy: 88.76666666666667\n",
      "Epoch: 47, train_loss: 0.1639661495288213, val_loss: 0.33991317070545035, Accuracy: 88.94166666666666\n",
      "Epoch: 48, train_loss: 0.16381687100728354, val_loss: 0.3346918466243338, Accuracy: 88.79166666666667\n",
      "Epoch: 49, train_loss: 0.15919447255134583, val_loss: 0.3368898265539332, Accuracy: 89.16666666666667\n",
      "Epoch: 50, train_loss: 0.15587266117334367, val_loss: 0.33457574612916785, Accuracy: 89.15833333333333\n",
      "Epoch: 51, train_loss: 0.15395057304700216, val_loss: 0.3349197121693733, Accuracy: 89.24166666666666\n",
      "Epoch: 52, train_loss: 0.157228174696366, val_loss: 0.34153255931240445, Accuracy: 89.03333333333333\n",
      "Epoch: 53, train_loss: 0.15244182940324147, val_loss: 0.3544283869101646, Accuracy: 88.55833333333334\n",
      "Epoch: 54, train_loss: 0.1463420739173889, val_loss: 0.36341495494893256, Accuracy: 88.69166666666666\n",
      "Epoch: 55, train_loss: 0.14866936709483464, val_loss: 0.33360330348319195, Accuracy: 89.30833333333334\n",
      "Epoch: 56, train_loss: 0.14477122884988786, val_loss: 0.35649035046709343, Accuracy: 88.78333333333333\n",
      "Epoch: 57, train_loss: 0.14425728712479274, val_loss: 0.3420970430399509, Accuracy: 89.3\n",
      "Epoch: 58, train_loss: 0.1404079415599505, val_loss: 0.3734636124461255, Accuracy: 88.81666666666666\n",
      "Epoch: 59, train_loss: 0.140233190625906, val_loss: 0.3683770849032605, Accuracy: 89.06666666666666\n",
      "Epoch: 60, train_loss: 0.1369125056962172, val_loss: 0.37029164110092405, Accuracy: 88.8\n",
      "Epoch: 61, train_loss: 0.13491584785779318, val_loss: 0.3549986772556254, Accuracy: 88.8\n",
      "Epoch: 62, train_loss: 0.1312752625544866, val_loss: 0.3732306675073948, Accuracy: 88.6\n",
      "Epoch: 63, train_loss: 0.12913468890388807, val_loss: 0.381521519986873, Accuracy: 88.425\n",
      "Epoch: 64, train_loss: 0.12896377703547476, val_loss: 0.36613901022900924, Accuracy: 89.00833333333334\n",
      "Epoch: 65, train_loss: 0.12322828968365987, val_loss: 0.36382182560702586, Accuracy: 89.19166666666666\n",
      "Epoch: 66, train_loss: 0.1256644041140874, val_loss: 0.3972161553324537, Accuracy: 88.2\n",
      "Epoch: 67, train_loss: 0.1266548626522223, val_loss: 0.3798952879423791, Accuracy: 89.325\n",
      "Epoch: 68, train_loss: 0.12480382427573204, val_loss: 0.4270413132741096, Accuracy: 87.56666666666666\n",
      "Epoch: 69, train_loss: 0.12060396764675776, val_loss: 0.37296772565930447, Accuracy: 88.90833333333333\n",
      "Epoch: 70, train_loss: 0.11844661311308542, val_loss: 0.3769746386307351, Accuracy: 88.73333333333333\n",
      "Epoch: 71, train_loss: 0.12007938378552596, val_loss: 0.4029739667126473, Accuracy: 88.675\n",
      "Epoch: 72, train_loss: 0.11048650395870209, val_loss: 0.3930541825421313, Accuracy: 88.98333333333333\n",
      "Epoch: 73, train_loss: 0.11414438664913178, val_loss: 0.39069616556801695, Accuracy: 88.94166666666666\n",
      "Epoch: 74, train_loss: 0.1084960490167141, val_loss: 0.3884856610539112, Accuracy: 89.05833333333334\n",
      "Epoch: 75, train_loss: 0.1092081802735726, val_loss: 0.4006495356876799, Accuracy: 88.65\n",
      "Epoch: 76, train_loss: 0.10670092720290025, val_loss: 0.3971700514567659, Accuracy: 88.74166666666666\n",
      "Epoch: 77, train_loss: 0.10956754114230474, val_loss: 0.41913862653235173, Accuracy: 88.88333333333334\n",
      "Epoch: 78, train_loss: 0.10750097449620565, val_loss: 0.41795154898724657, Accuracy: 88.86666666666666\n",
      "Epoch: 79, train_loss: 0.10131263436873754, val_loss: 0.4452465736168496, Accuracy: 88.66666666666667\n",
      "Epoch: 80, train_loss: 0.10270786004761855, val_loss: 0.3990826035275104, Accuracy: 88.98333333333333\n",
      "Epoch: 81, train_loss: 0.10342630578080814, val_loss: 0.4538426128156642, Accuracy: 88.35833333333333\n",
      "Epoch: 82, train_loss: 0.09943086081246535, val_loss: 0.4212669552640712, Accuracy: 89.04166666666667\n",
      "Epoch: 83, train_loss: 0.0990553898413976, val_loss: 0.42224228207735304, Accuracy: 88.49166666666666\n",
      "Epoch: 84, train_loss: 0.09765671047568321, val_loss: 0.43395240890218856, Accuracy: 88.725\n",
      "Epoch: 85, train_loss: 0.09592700022955736, val_loss: 0.42850189790763754, Accuracy: 88.99166666666666\n",
      "Epoch: 86, train_loss: 0.09592867424587409, val_loss: 0.4157844797727909, Accuracy: 88.79166666666667\n",
      "Epoch: 87, train_loss: 0.0905482289592425, val_loss: 0.4458296520912901, Accuracy: 88.71666666666667\n",
      "Epoch: 88, train_loss: 0.13290406571825344, val_loss: 0.42860489782500777, Accuracy: 88.11666666666666\n",
      "Epoch: 89, train_loss: 0.11288890895744165, val_loss: 0.41330933237963535, Accuracy: 89.01666666666667\n",
      "Epoch: 90, train_loss: 0.09107466878990332, val_loss: 0.42841679206553923, Accuracy: 88.89166666666667\n",
      "Epoch: 91, train_loss: 0.09034882144629955, val_loss: 0.43680811911187273, Accuracy: 88.83333333333333\n",
      "Epoch: 92, train_loss: 0.0886610810160637, val_loss: 0.4364817664027214, Accuracy: 89.05\n",
      "Epoch: 93, train_loss: 0.08926050872107347, val_loss: 0.43639153242111206, Accuracy: 88.79166666666667\n",
      "Epoch: 94, train_loss: 0.08872185639043649, val_loss: 0.4431440725605539, Accuracy: 88.725\n",
      "Epoch: 95, train_loss: 0.08168517911434174, val_loss: 0.4488457886779562, Accuracy: 88.65\n",
      "Epoch: 96, train_loss: 0.0816777474284172, val_loss: 0.4595593551689006, Accuracy: 88.50833333333334\n",
      "Epoch: 97, train_loss: 0.0783072027762731, val_loss: 0.45713374097930626, Accuracy: 88.95833333333333\n",
      "Epoch: 98, train_loss: 0.07991147209703922, val_loss: 0.4479567120049862, Accuracy: 88.89166666666667\n",
      "Epoch: 99, train_loss: 0.07518725350499153, val_loss: 0.46388947345474935, Accuracy: 88.875\n"
     ]
    }
   ],
   "source": [
    "train(num_epochs = epochs)"
   ]
  },
  {
   "cell_type": "code",
   "execution_count": null,
   "id": "f73accdd",
   "metadata": {
    "papermill": {
     "duration": 0.007145,
     "end_time": "2025-05-17T21:27:40.716539",
     "exception": false,
     "start_time": "2025-05-17T21:27:40.709394",
     "status": "completed"
    },
    "tags": []
   },
   "outputs": [],
   "source": []
  }
 ],
 "metadata": {
  "kaggle": {
   "accelerator": "nvidiaTeslaT4",
   "dataSources": [
    {
     "datasetId": 2243,
     "sourceId": 9243,
     "sourceType": "datasetVersion"
    }
   ],
   "dockerImageVersionId": 31041,
   "isGpuEnabled": true,
   "isInternetEnabled": true,
   "language": "python",
   "sourceType": "notebook"
  },
  "kernelspec": {
   "display_name": "Python 3",
   "language": "python",
   "name": "python3"
  },
  "language_info": {
   "codemirror_mode": {
    "name": "ipython",
    "version": 3
   },
   "file_extension": ".py",
   "mimetype": "text/x-python",
   "name": "python",
   "nbconvert_exporter": "python",
   "pygments_lexer": "ipython3",
   "version": "3.11.11"
  },
  "papermill": {
   "default_parameters": {},
   "duration": 118.263186,
   "end_time": "2025-05-17T21:27:43.270546",
   "environment_variables": {},
   "exception": null,
   "input_path": "__notebook__.ipynb",
   "output_path": "__notebook__.ipynb",
   "parameters": {},
   "start_time": "2025-05-17T21:25:45.007360",
   "version": "2.6.0"
  }
 },
 "nbformat": 4,
 "nbformat_minor": 5
}
